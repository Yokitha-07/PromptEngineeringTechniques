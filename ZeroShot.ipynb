{
  "nbformat": 4,
  "nbformat_minor": 0,
  "metadata": {
    "colab": {
      "provenance": [],
      "authorship_tag": "ABX9TyNK/Fp/4SYD9oX5xupUcRMS",
      "include_colab_link": true
    },
    "kernelspec": {
      "name": "python3",
      "display_name": "Python 3"
    },
    "language_info": {
      "name": "python"
    }
  },
  "cells": [
    {
      "cell_type": "markdown",
      "metadata": {
        "id": "view-in-github",
        "colab_type": "text"
      },
      "source": [
        "<a href=\"https://colab.research.google.com/github/Yokitha-07/Zeroshot-prompting/blob/main/ZeroShot.ipynb\" target=\"_parent\"><img src=\"https://colab.research.google.com/assets/colab-badge.svg\" alt=\"Open In Colab\"/></a>"
      ]
    },
    {
      "cell_type": "code",
      "execution_count": 18,
      "metadata": {
        "id": "QPsNSSE4zpdO"
      },
      "outputs": [],
      "source": [
        "import pandas as pd\n",
        "import time\n",
        "from google.colab import userdata\n",
        "# Replace 'your_file.json' with the actual path to your JSON file\n",
        "try:\n",
        "    df_from_json = pd.read_json('/content/ticket_dataset.json')\n",
        "except FileNotFoundError:\n",
        "    print(\"Error: 'your_file.json' not found. Please upload the file or provide the correct path.\")"
      ]
    },
    {
      "cell_type": "code",
      "source": [
        "from google import genai\n",
        "from google.genai import types\n",
        "from pydantic import BaseModel\n",
        "from typing import List\n",
        "\n",
        "# 1. Configure the client (using env var or explicitly)\n",
        "api_key = userdata.get('GOOGLE_API_KEY')\n",
        "client = genai.Client(api_key=api_key)"
      ],
      "metadata": {
        "id": "Kzd3Jf_R4gHf"
      },
      "execution_count": 20,
      "outputs": []
    },
    {
      "cell_type": "code",
      "source": [
        "# 2. Define your schema using Pydantic\n",
        "class ClassificationOutput(BaseModel):\n",
        "    class_: str\n",
        "    reason: str\n",
        "    confidence: int"
      ],
      "metadata": {
        "id": "nb1ikWhu1H0F"
      },
      "execution_count": 21,
      "outputs": []
    },
    {
      "cell_type": "code",
      "metadata": {
        "colab": {
          "base_uri": "https://localhost:8080/"
        },
        "id": "020b6dd3",
        "outputId": "07f1ffb5-7e2a-4648-9a11-26ec0b41bf2a"
      },
      "source": [
        "# Zero-shot Example Prompting\n",
        "text_to_classify = \"Checkout intermittently fails with 'try again later' when our traffic is routed to your EU replica region. Uptime looks fine—could this be regional latency?\"\n",
        "\n",
        "prompt_zero_shot = f\"\"\"\n",
        "Classify the following text into one of these categories:\n",
        "Billing: Any task relate to bills , ammount missmatch\n",
        "Account Access:\n",
        "Technical Issue:\n",
        "Feature Request, Spam.\n",
        "Provide the output as a JSON object with three keys: \"class\", \"reason\", and \"confidence\".\n",
        "\n",
        "Output: {{\"class\": \"<One of 5 type>\", \"reason\": \"<The text describes reason for selection>\", \"confidence\": 0-100}}\n",
        "\n",
        "Text: \"{text_to_classify}\"\n",
        "\"\"\"\n",
        "\n",
        "# 4. Call Gemini via the new SDK with schema enforcement\n",
        "response_zero_shot = client.models.generate_content(\n",
        "    model=\"gemini-2.5-flash\",  # or whichever model you have access to\n",
        "    contents=[prompt_zero_shot],\n",
        "    config=types.GenerateContentConfig(\n",
        "        response_mime_type=\"application/json\",\n",
        "        response_schema=ClassificationOutput,\n",
        "        temperature=0.5,\n",
        "        max_output_tokens=5000,\n",
        "    ),\n",
        ")\n",
        "\n",
        "print(\"\\nZero-shot Example Prompting Output:\")\n",
        "print(response_zero_shot.text)"
      ],
      "execution_count": 22,
      "outputs": [
        {
          "output_type": "stream",
          "name": "stdout",
          "text": [
            "\n",
            "Zero-shot Example Prompting Output:\n",
            "{\"class_\": \"Technical Issue\", \"reason\": \"The text describes intermittent checkout failures, an error message 'try again later', and investigates potential regional latency issues related to traffic routing, all of which are technical problems.\", \"confidence\": 95}\n"
          ]
        }
      ]
    }
  ]
}